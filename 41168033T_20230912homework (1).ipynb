{
 "cells": [
  {
   "cell_type": "code",
   "execution_count": 1,
   "id": "cfdd1244",
   "metadata": {},
   "outputs": [
    {
     "name": "stdout",
     "output_type": "stream",
     "text": [
      "請輸入動物總數:35\n",
      "請輸入動物腳數:94\n",
      "雞有23隻，兔子有12隻\n"
     ]
    }
   ],
   "source": [
    "totalnum = int(input('請輸入動物總數:'))\n",
    "legs = int(input('請輸入動物腳數:'))\n",
    "for chicken in range(0,totalnum+1):\n",
    "    rabbit = totalnum - chicken\n",
    "    if chicken*2 + rabbit*4 == legs:\n",
    "        print('雞有'+str(chicken)+'隻，兔子有'+str(rabbit)+'隻')\n",
    "        \n",
    "if legs < totalnum*2 or legs > totalnum*4 or legs%2 !=0 :\n",
    "    print('共有'+str(totalnum)+'隻動物，有'+str(legs)+'隻腳，無解')"
   ]
  },
  {
   "cell_type": "code",
   "execution_count": 1,
   "id": "3e9a6eae",
   "metadata": {},
   "outputs": [
    {
     "name": "stdout",
     "output_type": "stream",
     "text": [
      "總共有幾隻腳？40\n",
      "總共有幾隻動物？13\n",
      "雞有6隻，兔子有7隻\n"
     ]
    }
   ],
   "source": [
    "total_feet = int(input('總共有幾隻腳？'))\n",
    "total_animals = int(input('總共有幾隻動物？'))\n",
    "#兔的隻數 = (總腳數+總數*2) / (4-2) \n",
    "rabbit = (total_feet - total_animals*2)/(4-2)\n",
    "chicken = total_animals - rabbit\n",
    "print('雞有' + str(int(chicken)) + '隻，兔子有' + str(int(rabbit)) + '隻')\n"
   ]
  },
  {
   "cell_type": "code",
   "execution_count": null,
   "id": "9a1df511",
   "metadata": {},
   "outputs": [],
   "source": []
  }
 ],
 "metadata": {
  "kernelspec": {
   "display_name": "Python 3 (ipykernel)",
   "language": "python",
   "name": "python3"
  },
  "language_info": {
   "codemirror_mode": {
    "name": "ipython",
    "version": 3
   },
   "file_extension": ".py",
   "mimetype": "text/x-python",
   "name": "python",
   "nbconvert_exporter": "python",
   "pygments_lexer": "ipython3",
   "version": "3.11.4"
  }
 },
 "nbformat": 4,
 "nbformat_minor": 5
}
